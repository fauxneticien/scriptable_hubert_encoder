{
  "nbformat": 4,
  "nbformat_minor": 0,
  "metadata": {
    "colab": {
      "provenance": [],
      "authorship_tag": "ABX9TyOns/sZPFb9C4rdF8qvRLiq",
      "include_colab_link": true
    },
    "kernelspec": {
      "name": "python3",
      "display_name": "Python 3"
    },
    "language_info": {
      "name": "python"
    }
  },
  "cells": [
    {
      "cell_type": "markdown",
      "metadata": {
        "id": "view-in-github",
        "colab_type": "text"
      },
      "source": [
        "<a href=\"https://colab.research.google.com/github/fauxneticien/scriptable_hubert_encoder/blob/main/01_repo_walkthrough.ipynb\" target=\"_parent\"><img src=\"https://colab.research.google.com/assets/colab-badge.svg\" alt=\"Open In Colab\"/></a>"
      ]
    },
    {
      "cell_type": "markdown",
      "source": [
        "# Repository walkthrough: scriptable_hubert_encoder\n",
        "\n",
        "This repository aims to create a scriptable HuBERT encoder to examine if/how well [cramming strategies](https://github.com/JonasGeiping/cramming) proposed for the original BERT encoder can help reduce the compute footprint needed to pretrain HuBERT models for low-resource scenarios."
      ],
      "metadata": {
        "id": "1TOCPFashc72"
      }
    },
    {
      "cell_type": "markdown",
      "source": [
        "## Setup"
      ],
      "metadata": {
        "id": "xyEkRIBfjEx5"
      }
    },
    {
      "cell_type": "code",
      "execution_count": 29,
      "metadata": {
        "id": "Bt2abPgUrpbe"
      },
      "outputs": [],
      "source": [
        "%%capture\n",
        "%%bash\n",
        "\n",
        "# Setup Colab\n",
        "if [ -n \"$COLAB_RELEASE_TAG\" ]; then\n",
        "  rm -rf ./*\n",
        "  curl -f https://raw.githubusercontent.com/fauxneticien/scriptable_hubert_encoder/main/setup-colab.sh | bash\n",
        "fi"
      ]
    },
    {
      "cell_type": "markdown",
      "source": [
        "## Directories"
      ],
      "metadata": {
        "id": "PsYeVKwSjXmv"
      }
    },
    {
      "cell_type": "code",
      "source": [
        "!tree"
      ],
      "metadata": {
        "colab": {
          "base_uri": "https://localhost:8080/"
        },
        "id": "v_DWRZb0jHvU",
        "outputId": "82fdfd94-f55f-4d86-dc60-18089fee4176"
      },
      "execution_count": 35,
      "outputs": [
        {
          "output_type": "stream",
          "name": "stdout",
          "text": [
            "\u001b[01;34m.\u001b[0m\n",
            "├── \u001b[01;34mcomponents\u001b[0m\n",
            "│   ├── \u001b[00m__init__.py\u001b[0m\n",
            "│   ├── \u001b[00mmodel.py\u001b[0m\n",
            "│   ├── \u001b[00mscriptable.py\u001b[0m\n",
            "│   └── \u001b[00mverbatim_torchaudio.py\u001b[0m\n",
            "├── \u001b[00mREADME.md\u001b[0m\n",
            "└── \u001b[00msetup-colab.sh\u001b[0m\n",
            "\n",
            "1 directory, 6 files\n"
          ]
        }
      ]
    },
    {
      "cell_type": "code",
      "source": [],
      "metadata": {
        "id": "HpeRmkEYjQo_"
      },
      "execution_count": null,
      "outputs": []
    }
  ]
}